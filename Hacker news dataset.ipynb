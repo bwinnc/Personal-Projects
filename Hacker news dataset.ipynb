{
 "cells": [
  {
   "cell_type": "markdown",
   "metadata": {},
   "source": [
    "# Analyze Hacker news dataset to find patterens of posts with more comments"
   ]
  },
  {
   "cell_type": "code",
   "execution_count": 8,
   "metadata": {},
   "outputs": [
    {
     "name": "stdout",
     "output_type": "stream",
     "text": [
      "['id', 'title', 'url', 'num_points', 'num_comments', 'author', 'created_at']\n",
      "[['12224879', 'Interactive Dynamic Video', 'http://www.interactivedynamicvideo.com/', '386', '52', 'ne0phyte', '8/4/2016 11:52'], ['10975351', 'How to Use Open Source and Shut the Fuck Up at the Same Time', 'http://hueniverse.com/2016/01/26/how-to-use-open-source-and-shut-the-fuck-up-at-the-same-time/', '39', '10', 'josep2', '1/26/2016 19:30'], ['11964716', \"Florida DJs May Face Felony for April Fools' Water Joke\", 'http://www.thewire.com/entertainment/2013/04/florida-djs-april-fools-water-joke/63798/', '2', '1', 'vezycash', '6/23/2016 22:20'], ['11919867', 'Technology ventures: From Idea to Enterprise', 'https://www.amazon.com/Technology-Ventures-Enterprise-Thomas-Byers/dp/0073523429', '3', '1', 'hswarna', '6/17/2016 0:01'], ['10301696', 'Note by Note: The Making of Steinway L1037 (2007)', 'http://www.nytimes.com/2007/11/07/movies/07stein.html?_r=0', '8', '2', 'walterbell', '9/30/2015 4:12'], ['10482257', 'Title II kills investment? Comcast and other ISPs are now spending more', 'http://arstechnica.com/business/2015/10/comcast-and-other-isps-boost-network-investment-despite-net-neutrality/', '53', '22', 'Deinos', '10/31/2015 9:48'], ['10557283', 'Nuts and Bolts Business Advice', '', '3', '4', 'shomberj', '11/13/2015 0:45'], ['12296411', 'Ask HN: How to improve my personal website?', '', '2', '6', 'ahmedbaracat', '8/16/2016 9:55']]\n"
     ]
    }
   ],
   "source": [
    "# Read in the dataset and inspect the first few rows\n",
    "import csv\n",
    "with open('hacker_news.csv') as f:\n",
    "    rows = list(csv.reader(f))\n",
    "    header = rows[0]\n",
    "    rows = rows[1:]\n",
    "print(header)\n",
    "print(rows[0:8])"
   ]
  },
  {
   "cell_type": "code",
   "execution_count": 9,
   "metadata": {},
   "outputs": [
    {
     "name": "stdout",
     "output_type": "stream",
     "text": [
      "1744\n",
      "1162\n"
     ]
    }
   ],
   "source": [
    "# Seperate Ask Hn posts and Show Hn posts to see if they get a different amount of comments\n",
    "ask_hn = []\n",
    "show_hn = []\n",
    "for row in rows:\n",
    "    title = row[1]\n",
    "    if title.lower().startswith('ask hn'):\n",
    "        ask_hn.append(row)\n",
    "    elif title.lower().startswith('show hn'):\n",
    "        show_hn.append(row)\n",
    "print(len(ask_hn))\n",
    "print(len(show_hn))\n",
    "\n",
    "    "
   ]
  },
  {
   "cell_type": "code",
   "execution_count": 12,
   "metadata": {},
   "outputs": [
    {
     "name": "stdout",
     "output_type": "stream",
     "text": [
      "14.038417431192661\n",
      "10.31669535283993\n"
     ]
    }
   ],
   "source": [
    "# Find average number of comments per post in ask_hn/show_hn lists\n",
    "ask_comments = 0\n",
    "show_comments = 0\n",
    "for row in ask_hn:\n",
    "    comments = float(row[4])\n",
    "    ask_comments += comments\n",
    "for row in show_hn:\n",
    "    comments = float(row[4])\n",
    "    show_comments += comments\n",
    "ask_comments_per_post = ask_comments / len(ask_hn)\n",
    "show_comments_per_post = show_comments / len(show_hn)\n",
    "print(ask_comments_per_post)\n",
    "print(show_comments_per_post)"
   ]
  },
  {
   "cell_type": "code",
   "execution_count": 14,
   "metadata": {},
   "outputs": [
    {
     "name": "stdout",
     "output_type": "stream",
     "text": [
      "[('15', 38.5948275862069), ('02', 23.810344827586206), ('20', 21.525), ('16', 16.796296296296298), ('21', 16.009174311926607), ('13', 14.741176470588234), ('10', 13.440677966101696), ('14', 13.233644859813085), ('18', 13.20183486238532), ('17', 11.46), ('01', 11.383333333333333), ('11', 11.051724137931034), ('19', 10.8), ('08', 10.25), ('05', 10.08695652173913), ('12', 9.41095890410959), ('06', 9.022727272727273), ('00', 8.127272727272727), ('23', 7.985294117647059), ('07', 7.852941176470588), ('03', 7.796296296296297), ('04', 7.170212765957447), ('22', 6.746478873239437), ('09', 5.5777777777777775)]\n"
     ]
    }
   ],
   "source": [
    "# Since ask comments get more comments per post I will focus my analysis on that dataset\n",
    "# Finding avg number of comments per ask post per hour\n",
    "comments_per_hour = {}\n",
    "ask_posts_per_hour = {}\n",
    "avg_comments_per_post_hour = {}\n",
    "import datetime as dt\n",
    "for row in ask_hn:\n",
    "    time = row[6]\n",
    "    time = dt.datetime.strptime(time, \"%m/%d/%Y %H:%M\").strftime(\"%H\")\n",
    "    comments = float(row[4])\n",
    "    if time not in comments_per_hour:\n",
    "        comments_per_hour[time] = comments\n",
    "    else:\n",
    "        comments_per_hour[time] += comments\n",
    "    if time not in ask_posts_per_hour:\n",
    "        ask_posts_per_hour[time] = 1\n",
    "    else:\n",
    "        ask_posts_per_hour[time] += 1\n",
    "for key in comments_per_hour:\n",
    "    avg_comments_per_post_hour[key] = comments_per_hour[key] / ask_posts_per_hour[key]\n",
    "print(sorted(avg_comments_per_post_hour.items(), reverse=True, key=lambda item: item[1]))"
   ]
  },
  {
   "cell_type": "code",
   "execution_count": null,
   "metadata": {},
   "outputs": [],
   "source": [
    "# Hour 15:00 gets the the most comments per ask post\n",
    "# Checking to see if show posts potentially have an hour that gets more comments per post\n",
    "comments_per_hour_show = {}\n",
    "show_posts_per_hour = {}\n",
    "avg_show_comments_per_post_hour = {}\n",
    "import datetime as dt\n",
    "for row in show_hn:\n",
    "    time = row[6]\n",
    "    time = dt.datetime.strptime(time, \"%m/%d/%Y %H:%M\").strftime(\"%H\")\n",
    "    comments = float(row[4])\n",
    "    if time not in comments_per_hour_show:\n",
    "        comments_per_hour_show[time] = comments\n",
    "    else:\n",
    "        comments_per_hour_show[time] += comments\n",
    "    if time not in show_posts_per_hour:\n",
    "        ask_posts_per_hour[time] = 1\n",
    "    else:\n",
    "        ask_posts_per_hour[time] += 1\n",
    "for key in comments_per_hour:\n",
    "    avg_comments_per_post_hour[key] = comments_per_hour[key] / ask_posts_per_hour[key]\n",
    "print(sorted(avg_comments_per_post_hour.items(), reverse=True, key=lambda item: item[1]))"
   ]
  }
 ],
 "metadata": {
  "kernelspec": {
   "display_name": "Python 3",
   "language": "python",
   "name": "python3"
  },
  "language_info": {
   "codemirror_mode": {
    "name": "ipython",
    "version": 3
   },
   "file_extension": ".py",
   "mimetype": "text/x-python",
   "name": "python",
   "nbconvert_exporter": "python",
   "pygments_lexer": "ipython3",
   "version": "3.8.2"
  }
 },
 "nbformat": 4,
 "nbformat_minor": 4
}
